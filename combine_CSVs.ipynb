{
 "cells": [
  {
   "cell_type": "code",
   "execution_count": 26,
   "metadata": {},
   "outputs": [],
   "source": [
    "# import multiple CSVs that have same data structure into single dataframe\n",
    "\n",
    "import os\n",
    "import pandas as pd\n",
    "\n",
    "dfCombined = pd.DataFrame()\n",
    "\n",
    "# r=root, d=directories, f = files\n",
    "for r, d, f in os.walk(os.path.join(os.getcwd(),'inputs')):\n",
    "    for file in f:\n",
    "        if file.endswith('.csv'):\n",
    "            iYear = int(file[file.rfind('_') + 1:file.rfind('.')])\n",
    "            df = pd.read_csv(os.path.join(r, file))\n",
    "            df['YEAR'] = iYear\n",
    "            dfCombined = pd.concat([dfCombined,df])\n",
    "\n",
    "display(dfCombined)\n"
   ]
  },
  {
   "cell_type": "code",
   "execution_count": 3,
   "metadata": {},
   "outputs": [],
   "source": [
    "dfCombined.to_csv(os.path.join(os.getcwd(),r'results\\combined.csv'),index=False)"
   ]
  }
 ],
 "metadata": {
  "kernelspec": {
   "display_name": "base",
   "language": "python",
   "name": "python3"
  },
  "language_info": {
   "codemirror_mode": {
    "name": "ipython",
    "version": 3
   },
   "file_extension": ".py",
   "mimetype": "text/x-python",
   "name": "python",
   "nbconvert_exporter": "python",
   "pygments_lexer": "ipython3",
   "version": "3.9.13"
  },
  "orig_nbformat": 4,
  "vscode": {
   "interpreter": {
    "hash": "4bb4605dfc804e0302ccd2292d0e6a4e9288eed266a860dfac34a70f30ea53a4"
   }
  }
 },
 "nbformat": 4,
 "nbformat_minor": 2
}
